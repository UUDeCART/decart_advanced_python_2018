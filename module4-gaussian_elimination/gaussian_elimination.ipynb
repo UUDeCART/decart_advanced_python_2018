{
 "cells": [
  {
   "cell_type": "markdown",
   "metadata": {},
   "source": [
    "# Gaussian Elimination\n",
    "\n",
    "\\begin{eqnarray}\n",
    "\\begin{array}{rcrcrc@{\\qquad}l}\n",
    "x & + & 2y & + & z = & 2 & (a)\\\\\n",
    "3x & + & 8y & + & z = & 12 & (b) \\\\\n",
    "   & & 4y & + & z = & 2 & (c)\n",
    "\\end{array}\n",
    "\\end{eqnarray}\n",
    "\n",
    "\\begin{equation}\n",
    "\\begin{bmatrix}\n",
    "\\begin{array}{rrr{\\qquad}1}\n",
    "1 & 2 & 1\\\\\n",
    "3 & 8 & 1\\\\\n",
    "0 & 4 & 1\n",
    "\\end{array}\n",
    "\\end{bmatrix}\n",
    "\\end{equation}\n",
    "\n",
    "## Algorithm (from http://www.math-cs.gordon.edu/courses/ma342/handouts/gauss.pdf)\n",
    "\n",
    "Following the pseudocode available at the above link, we are going to break our algorithm into three parts:\n",
    "\n",
    "1. Gaussian Elimination\n",
    "2. Forward Elimination\n",
    "3. Backward Solve\n",
    "\n",
    "### Gaussian Elimination\n",
    "\n",
    "The gist of this step is to transform our matrix to an upper triangular matrix by finding **pivots**, using the pivots to determine multiplicative factors\n",
    "\n",
    "![Gaussian Elimination Pseudocode](./gaussian_elimination.jpg)\n",
    "\n",
    "**Note:** this pseudocode assumes indexing starts at one. We will need to modify this for Python which starts at zero."
   ]
  },
  {
   "cell_type": "markdown",
   "metadata": {},
   "source": [
    "For the $k^{th}$ row we identify the $k^{th}$ column; this is the **pivot**. For each row $i; i > k$, we find the multiplier ($f_{ki}$) such that when we multiply row $k$ by"
   ]
  },
  {
   "cell_type": "code",
   "execution_count": null,
   "metadata": {},
   "outputs": [],
   "source": [
    "import numpy as np\n",
    "\n",
    "def gaussian_elimination1(a):\n",
    "    A = np.matrix.copy(a)\n",
    "    m = A.shape[1]\n",
    "    for k in range(1,m):\n",
    "        for i in range(k+1,m):\n",
    "            f = A[???]/A[???]\n",
    "            A[i,:] = A[i,:]-m*A[???]\n",
    "    return A\n",
    "    "
   ]
  },
  {
   "cell_type": "code",
   "execution_count": null,
   "metadata": {},
   "outputs": [],
   "source": [
    "A = np.matrix([[1,2,1],[3,8,1],[0,4,1]])\n",
    "A"
   ]
  },
  {
   "cell_type": "code",
   "execution_count": null,
   "metadata": {},
   "outputs": [],
   "source": [
    "U = gaussian_elimination1(A)"
   ]
  },
  {
   "cell_type": "code",
   "execution_count": null,
   "metadata": {},
   "outputs": [],
   "source": [
    "type(U)"
   ]
  },
  {
   "cell_type": "code",
   "execution_count": null,
   "metadata": {},
   "outputs": [],
   "source": [
    "U"
   ]
  },
  {
   "cell_type": "markdown",
   "metadata": {},
   "source": [
    "![forward_elimination](./forward_elimination.png)"
   ]
  },
  {
   "cell_type": "code",
   "execution_count": null,
   "metadata": {},
   "outputs": [],
   "source": [
    "def gaussian_elimination2(a,_b):\n",
    "    pass"
   ]
  },
  {
   "cell_type": "code",
   "execution_count": null,
   "metadata": {},
   "outputs": [],
   "source": [
    "b = np.matrix([2,12,2]).transpose()"
   ]
  },
  {
   "cell_type": "code",
   "execution_count": null,
   "metadata": {},
   "outputs": [],
   "source": [
    "b"
   ]
  },
  {
   "cell_type": "code",
   "execution_count": null,
   "metadata": {},
   "outputs": [],
   "source": [
    "U,b_"
   ]
  },
  {
   "cell_type": "code",
   "execution_count": null,
   "metadata": {},
   "outputs": [],
   "source": [
    "U, b_ = gaussian_elimination2(A,b)"
   ]
  },
  {
   "cell_type": "code",
   "execution_count": null,
   "metadata": {},
   "outputs": [],
   "source": [
    "b_"
   ]
  },
  {
   "cell_type": "markdown",
   "metadata": {},
   "source": [
    "## Backward Substitution\n",
    "![backward substitution](./backward_solve.png)"
   ]
  },
  {
   "cell_type": "markdown",
   "metadata": {},
   "source": [
    "### Hints\n",
    "\n",
    "1. Think about the limits of the `range` function in Python"
   ]
  },
  {
   "cell_type": "code",
   "execution_count": null,
   "metadata": {},
   "outputs": [],
   "source": [
    "def backward_solve(U, b):\n",
    "    x = np.zeros(b.shape)\n",
    "    m = U.shape[0]\n",
    "    for i in range(???):\n",
    "        s = b[i]\n",
    "        print(\"row %d\"%i)\n",
    "        print(s)\n",
    "        for j in range(???):\n",
    "            s = s-U[???]*x[???]\n",
    "            print(s)\n",
    "        x[i] = s/U[???]\n",
    "        print(\"x[i]=%f\"%x[i])\n",
    "    return x"
   ]
  },
  {
   "cell_type": "code",
   "execution_count": null,
   "metadata": {},
   "outputs": [],
   "source": [
    "b_"
   ]
  },
  {
   "cell_type": "code",
   "execution_count": null,
   "metadata": {},
   "outputs": [],
   "source": [
    "backward_solve(U,b_)"
   ]
  },
  {
   "cell_type": "markdown",
   "metadata": {},
   "source": [
    "## How can we check our solution?"
   ]
  },
  {
   "cell_type": "code",
   "execution_count": null,
   "metadata": {},
   "outputs": [],
   "source": [
    "import numpy.linalg as la"
   ]
  },
  {
   "cell_type": "code",
   "execution_count": null,
   "metadata": {},
   "outputs": [],
   "source": [
    "la.solve(A,b)"
   ]
  },
  {
   "cell_type": "markdown",
   "metadata": {},
   "source": [
    "## Are there any assumptions we made in our solution?"
   ]
  },
  {
   "cell_type": "code",
   "execution_count": null,
   "metadata": {},
   "outputs": [],
   "source": []
  }
 ],
 "metadata": {
  "kernelspec": {
   "display_name": "Python 3",
   "language": "python",
   "name": "python3"
  },
  "language_info": {
   "codemirror_mode": {
    "name": "ipython",
    "version": 3
   },
   "file_extension": ".py",
   "mimetype": "text/x-python",
   "name": "python",
   "nbconvert_exporter": "python",
   "pygments_lexer": "ipython3",
   "version": "3.6.5"
  }
 },
 "nbformat": 4,
 "nbformat_minor": 2
}
