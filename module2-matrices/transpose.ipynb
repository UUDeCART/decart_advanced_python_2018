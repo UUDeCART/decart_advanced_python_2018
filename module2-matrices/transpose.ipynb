{
 "cells": [
  {
   "cell_type": "code",
   "execution_count": 1,
   "metadata": {},
   "outputs": [],
   "source": [
    "%matplotlib inline"
   ]
  },
  {
   "cell_type": "code",
   "execution_count": 2,
   "metadata": {},
   "outputs": [],
   "source": [
    "from myla.disp import draw_vectors\n",
    "from myla.utils import *\n",
    "import myla.vector as vector"
   ]
  },
  {
   "cell_type": "markdown",
   "metadata": {},
   "source": [
    "# Matrices"
   ]
  },
  {
   "cell_type": "markdown",
   "metadata": {},
   "source": [
    "## Example: Compute Transpose\n",
    "\n",
    "\n",
    "Computing the transpose of a matrix/vector is trivial when working with a numpy array. However, it is a little tricky when we are using lists of lists to represent vectors. The difficulty lies in the creation of the new array.\n",
    "\n",
    "Since we are representing a matrix as a list of rows, we will want to create the rows of the new matrix. So if we are going to create rows of the new matrix we need to iterate across the columns of the old matrix.\n",
    "\n",
    "Remember columns become rows and rows become columns\n",
    "\n",
    "Here is the code I presented in class\n",
    "\n",
    "```Python\n",
    "def transpose(a):\n",
    "    new_a = []\n",
    "    for n in range(len(a[0])):\n",
    "        new_r = []\n",
    "        for m in range(len(a)):\n",
    "            new_r.append(a[m][n])\n",
    "        new_a.append(new_r)\n",
    "    return new_a\n",
    "```\n",
    "\n",
    "Now breaking this down into parts\n",
    "\n",
    "```Python\n",
    "for n in range(len(a[0])):\n",
    "```\n",
    "* `a[0]` is the first **row** in `a`, so `len(a[0])` is the number of **columns** in the matrix\n",
    "* `len(a)` is the number **rows** in the matrix\n",
    "\n",
    "Looking at how our for loops are nested, our other loop is over the columns and our inner loop is over the rows. What this means is we are iterating over the rows of `a` for a fixed column. Since the result of this iteration is assigned as a row in `a`, we have computed a transpose."
   ]
  },
  {
   "cell_type": "code",
   "execution_count": 3,
   "metadata": {},
   "outputs": [],
   "source": [
    "def transpose(a):\n",
    "    new_a = []\n",
    "    for n in range(len(a[0])):\n",
    "        new_r = []\n",
    "        for m in range(len(a)):\n",
    "            new_r.append(a[m][n])\n",
    "        new_a.append(new_r)\n",
    "    return new_a\n",
    "    \n",
    "    \n",
    "            \n",
    "        "
   ]
  },
  {
   "cell_type": "code",
   "execution_count": 4,
   "metadata": {},
   "outputs": [
    {
     "data": {
      "text/plain": [
       "[[1, 1], [3, -4], [-2, -3]]"
      ]
     },
     "execution_count": 4,
     "metadata": {},
     "output_type": "execute_result"
    }
   ],
   "source": [
    "transpose(((1,3,-2),(1,-4,-3)))"
   ]
  },
  {
   "cell_type": "markdown",
   "metadata": {},
   "source": [
    "We can write this more concisely using list comprehension:\n",
    "\n",
    "```Python\n",
    "def transpose(a):\n",
    "    new_a = []\n",
    "    for n in range(len(a[0])):\n",
    "        # column is fixed (n)\n",
    "        # iterate over rows\n",
    "        new_row = [a[m][n] for m in range(len(a))]\n",
    "       \n",
    "        new_a.append(new_r)\n",
    "    return new_a\n",
    "```\n",
    "\n",
    "If we want to get even more concise, we can do it with a nested list comprehension.\n",
    "\n",
    "```Python\n",
    "def transpose(a):\n",
    "\n",
    "        new_row = [[a[m][n] for m in range(len(a))] for n in range(len(a[0]])\n",
    "       \n",
    "        new_a.append(new_r)\n",
    "    return new_a\n",
    "```"
   ]
  },
  {
   "cell_type": "code",
   "execution_count": 5,
   "metadata": {},
   "outputs": [],
   "source": [
    "def transpose(a):\n",
    "    return [[a[m][n] for m in range(len(a))] for n in range(len(a[0]))]"
   ]
  },
  {
   "cell_type": "code",
   "execution_count": 6,
   "metadata": {},
   "outputs": [
    {
     "data": {
      "text/plain": [
       "[[1, 1], [3, -4], [-2, -3]]"
      ]
     },
     "execution_count": 6,
     "metadata": {},
     "output_type": "execute_result"
    }
   ],
   "source": [
    "transpose(((1,3,-2),(1,-4,-3)))"
   ]
  },
  {
   "cell_type": "markdown",
   "metadata": {},
   "source": [
    "## How could we check this?\n",
    "\n"
   ]
  },
  {
   "cell_type": "code",
   "execution_count": 10,
   "metadata": {},
   "outputs": [
    {
     "data": {
      "text/plain": [
       "True"
      ]
     },
     "execution_count": 10,
     "metadata": {},
     "output_type": "execute_result"
    }
   ],
   "source": [
    "np.transpose(((1,3,-2),(1,-4,-3))).tolist()==transpose(((1,3,-2),(1,-4,-3)))"
   ]
  },
  {
   "cell_type": "code",
   "execution_count": null,
   "metadata": {},
   "outputs": [],
   "source": []
  }
 ],
 "metadata": {
  "kernelspec": {
   "display_name": "Python 3",
   "language": "python",
   "name": "python3"
  },
  "language_info": {
   "codemirror_mode": {
    "name": "ipython",
    "version": 3
   },
   "file_extension": ".py",
   "mimetype": "text/x-python",
   "name": "python",
   "nbconvert_exporter": "python",
   "pygments_lexer": "ipython3",
   "version": "3.6.5"
  }
 },
 "nbformat": 4,
 "nbformat_minor": 2
}
