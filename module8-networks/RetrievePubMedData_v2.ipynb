{
 "cells": [
  {
   "cell_type": "markdown",
   "metadata": {},
   "source": [
    "# Graph Relationships Among Researchers\n",
    "\n",
    "We are going to create Graphs describing relationships between researchers based on co-authorships. In this notebook we are going to use [Biopython](http://biopython.org/) to query PubMed and get citation information for articles published by various researchers.\n",
    "\n",
    "Feel free to create your own list of researchers (including yourself!)\n",
    "\n"
   ]
  },
  {
   "cell_type": "markdown",
   "metadata": {},
   "source": [
    "### Uncomment and run the cell below if you need to install biopython"
   ]
  },
  {
   "cell_type": "code",
   "execution_count": null,
   "metadata": {},
   "outputs": [],
   "source": [
    "#!conda install biopython -y"
   ]
  },
  {
   "cell_type": "code",
   "execution_count": 1,
   "metadata": {},
   "outputs": [
    {
     "name": "stdout",
     "output_type": "stream",
     "text": [
      "True\n"
     ]
    }
   ],
   "source": [
    "from Bio import Entrez\n",
    "import networkx as nx\n",
    "import os\n",
    "DATADIR = os.getcwd()\n",
    "print(os.path.exists(DATADIR))\n",
    "from IPython.display import Image\n",
    "import getpass\n",
    "import gzip\n",
    "import pickle"
   ]
  },
  {
   "cell_type": "markdown",
   "metadata": {},
   "source": [
    "### An Example List of BMI Faculty\n",
    "\n",
    "Since our names are not unique identifiers, it can be challenging to query PubMed based on name. For example, I try to be \"Brian E Chapman\" professionally but I have had papers published as \"Brian Chapman\". The list below is copied from a spreadsheet with some tweaking to get the names into the most common form for publishing. Since I copied this from a spreadsheet, I have to do a little manipulation to get the names into FIRSTNAME LASTNAME form.\n"
   ]
  },
  {
   "cell_type": "code",
   "execution_count": null,
   "metadata": {},
   "outputs": [],
   "source": [
    "faculty = [tuple(s.split(\"\\t\")) for s in \n",
    "\"\"\"AbdelRahman\tSamir E\n",
    "Adler\tFrederick R\n",
    "Bray\tBruce E\n",
    "Camp\tNicola J\n",
    "Chapman\tBrian E\n",
    "Chapman\tWendy W\n",
    "Conway\tMichael A\n",
    "Cummins\tMollie R\n",
    "Del Fiol\tGuilherme\n",
    "Drews\tFrank A\n",
    "Egger\tMarlene J\n",
    "Eilbeck\tKaren\n",
    "Evans\tR Scott\n",
    "Facelli\tJulio C\n",
    "Gibson\tBryan S\n",
    "Gouripeddi\tRamkiran\n",
    "Haug\tPeter J\n",
    "Huff\tStanley M\n",
    "Hurdle\tJohn F\n",
    "Kawamoto\tKensaku\n",
    "Lee\tYounghee\n",
    "Narus\tScott P\n",
    "Nebeker\tJonathan\n",
    "Parker\tDennis L\n",
    "Piccolo\tStephen\n",
    "Quinlan\tAaron\n",
    "Samore\tMatthew H\n",
    "Sauer\tBrian C\n",
    "Staes\tCatherine J\n",
    "Sward\tKatherine A\n",
    "Weir\tCharlene R\n",
    "Yandell\tMark\n",
    "Dean\tJ Michael\n",
    "Gesteland\tPer H\n",
    "Gundlapalli\tAdi V\n",
    "Jackson\tBrian R\n",
    "Lincoln\tMichael J\n",
    "Morris\tAlan H\n",
    "Xu\tWu\"\"\".split(\"\\n\")]\n",
    "faculty = [\"%s %s\"%(f[1],f[0]) for f in faculty]\n"
   ]
  },
  {
   "cell_type": "markdown",
   "metadata": {},
   "source": [
    "### Here is a shorter, alternative list\n",
    "#### Edit and uncomment"
   ]
  },
  {
   "cell_type": "code",
   "execution_count": 2,
   "metadata": {},
   "outputs": [],
   "source": [
    "faculty = [\"Brian E Chapman\", \"David Gur\", \"Wendy W Chapman\", \"Peter J Haug\", \"Dennis L Parker\", \"Matthew H Samore\"]"
   ]
  },
  {
   "cell_type": "markdown",
   "metadata": {},
   "source": [
    "### Get the pubmed IDs matching query"
   ]
  },
  {
   "cell_type": "code",
   "execution_count": 3,
   "metadata": {},
   "outputs": [
    {
     "name": "stdout",
     "output_type": "stream",
     "text": [
      "Enter your e-mail: brian.chapman@utah.edu\n"
     ]
    }
   ],
   "source": [
    "email_string = input(\"Enter your e-mail: \").strip()"
   ]
  },
  {
   "cell_type": "code",
   "execution_count": 4,
   "metadata": {},
   "outputs": [],
   "source": [
    "def search(query, email=''):\n",
    "    Entrez.email = email\n",
    "    handle = Entrez.esearch(db='pubmed', \n",
    "                            sort='relevance', \n",
    "                            retmax='100',\n",
    "                            retmode='xml', \n",
    "                            term=query)\n",
    "    results = Entrez.read(handle)\n",
    "    return results"
   ]
  },
  {
   "cell_type": "markdown",
   "metadata": {},
   "source": [
    "### Fetch papers corresponding to ids"
   ]
  },
  {
   "cell_type": "code",
   "execution_count": 20,
   "metadata": {},
   "outputs": [],
   "source": [
    "def fetch_details(id_list, email=\"brian.chapman@utah.edu\"):\n",
    "    ids = ','.join(id_list)\n",
    "    Entrez.email = email\n",
    "    handle = Entrez.efetch(db='pubmed',\n",
    "                           retmode='xml',\n",
    "                           id=ids)\n",
    "    results = Entrez.read(handle)\n",
    "    return results"
   ]
  },
  {
   "cell_type": "code",
   "execution_count": 7,
   "metadata": {},
   "outputs": [
    {
     "name": "stdout",
     "output_type": "stream",
     "text": [
      "Help on function efetch in module Bio.Entrez:\n",
      "\n",
      "efetch(db, **keywords)\n",
      "    Fetch Entrez results which are returned as a handle.\n",
      "    \n",
      "    EFetch retrieves records in the requested format from a list of one or\n",
      "    more UIs or from user's environment.\n",
      "    \n",
      "    See the online documentation for an explanation of the parameters:\n",
      "    http://www.ncbi.nlm.nih.gov/books/NBK25499/#chapter4.EFetch\n",
      "    \n",
      "    Return a handle to the results.\n",
      "    \n",
      "    Raises an IOError exception if there's a network error.\n",
      "    \n",
      "    Short example:\n",
      "    \n",
      "    >>> from Bio import Entrez\n",
      "    >>> Entrez.email = \"Your.Name.Here@example.org\"\n",
      "    >>> handle = Entrez.efetch(db=\"nucleotide\", id=\"AY851612\", rettype=\"gb\", retmode=\"text\")\n",
      "    >>> print(handle.readline().strip())\n",
      "    LOCUS       AY851612                 892 bp    DNA     linear   PLN 10-APR-2007\n",
      "    >>> handle.close()\n",
      "    \n",
      "    This will automatically use an HTTP POST rather than HTTP GET if there\n",
      "    are over 200 identifiers as recommended by the NCBI.\n",
      "    \n",
      "    **Warning:** The NCBI changed the default retmode in Feb 2012, so many\n",
      "    databases which previously returned text output now give XML.\n",
      "\n"
     ]
    }
   ],
   "source": [
    "help(Entrez.efetch)"
   ]
  },
  {
   "cell_type": "markdown",
   "metadata": {},
   "source": [
    "### Get Co-authorship\n",
    "\n",
    "Entrez returns a lot of information. We hone it down to just the names. We need to use exceptions because the returned papers doesn't always have the fields we want."
   ]
  },
  {
   "cell_type": "code",
   "execution_count": 8,
   "metadata": {},
   "outputs": [],
   "source": [
    "def get_coauthor_lists(papers):\n",
    "    paper_authors = {}\n",
    "    for p in papers:\n",
    "        try:\n",
    "            tmp = p['MedlineCitation']\n",
    "            alist = []\n",
    "            for a in tmp['Article']['AuthorList']:\n",
    "                try:\n",
    "                    s = \"%s %s\"%(a['ForeName'],a['LastName'])\n",
    "                    alist.append(s)\n",
    "                except Exception as error:\n",
    "                    pass\n",
    "                    #print(error)\n",
    "            paper_authors[tmp['Article']['ArticleTitle']] = alist\n",
    "        except:\n",
    "            pass\n",
    "    return paper_authors"
   ]
  },
  {
   "cell_type": "code",
   "execution_count": 9,
   "metadata": {},
   "outputs": [],
   "source": [
    "\n",
    "def get_faculty_coauthors(faculty, email=''):\n",
    "    return get_coauthor_lists( \n",
    "                              fetch_details(\n",
    "                                  search(faculty, email=email)['IdList'], email=email)[\"PubmedArticle\"])"
   ]
  },
  {
   "cell_type": "code",
   "execution_count": 11,
   "metadata": {},
   "outputs": [],
   "source": [
    "Entrez.email = \"brian.chapman@utah.edu\"\n",
    "handle = Entrez.esearch(db='pubmed', \n",
    "                        sort='relevance', \n",
    "                        retmax='100',\n",
    "                        retmode='xml', \n",
    "                        term=[\"Brian E. Chapman\"])"
   ]
  },
  {
   "cell_type": "code",
   "execution_count": 13,
   "metadata": {},
   "outputs": [
    {
     "data": {
      "text/plain": [
       "_io.TextIOWrapper"
      ]
     },
     "execution_count": 13,
     "metadata": {},
     "output_type": "execute_result"
    }
   ],
   "source": [
    "type(handle)"
   ]
  },
  {
   "cell_type": "code",
   "execution_count": 14,
   "metadata": {},
   "outputs": [],
   "source": [
    "results = Entrez.read(handle)\n"
   ]
  },
  {
   "cell_type": "code",
   "execution_count": 18,
   "metadata": {},
   "outputs": [
    {
     "data": {
      "text/plain": [
       "dict_keys(['Count', 'RetMax', 'RetStart', 'IdList', 'TranslationSet', 'TranslationStack', 'QueryTranslation'])"
      ]
     },
     "execution_count": 18,
     "metadata": {},
     "output_type": "execute_result"
    }
   ],
   "source": [
    "results.keys()"
   ]
  },
  {
   "cell_type": "code",
   "execution_count": 19,
   "metadata": {},
   "outputs": [
    {
     "data": {
      "text/plain": [
       "['29135365', '27175226', '24556644', '26165778', '23920642', '23304270', '22081224', '21459155', '20693106', '21031012', '18581389', '16189435', '15854841', '17354729', '15848266', '15016383', '15671008', '16685891', '15063861', '15360860', '14626297', '12807805', '12815647', '12490516']"
      ]
     },
     "execution_count": 19,
     "metadata": {},
     "output_type": "execute_result"
    }
   ],
   "source": [
    "results[\"IdList\"]"
   ]
  },
  {
   "cell_type": "code",
   "execution_count": 21,
   "metadata": {},
   "outputs": [],
   "source": [
    "result_details = fetch_details(results[\"IdList\"])"
   ]
  },
  {
   "cell_type": "markdown",
   "metadata": {},
   "source": [
    "### What is `result_details`?"
   ]
  },
  {
   "cell_type": "code",
   "execution_count": 22,
   "metadata": {},
   "outputs": [
    {
     "data": {
      "text/plain": [
       "Bio.Entrez.Parser.StructureElement"
      ]
     },
     "execution_count": 22,
     "metadata": {},
     "output_type": "execute_result"
    }
   ],
   "source": [
    "type(result_details)"
   ]
  },
  {
   "cell_type": "code",
   "execution_count": 27,
   "metadata": {},
   "outputs": [
    {
     "data": {
      "text/plain": [
       "2"
      ]
     },
     "execution_count": 27,
     "metadata": {},
     "output_type": "execute_result"
    }
   ],
   "source": [
    "isinstance(result_details, dict)\n",
    "len(result_details)"
   ]
  },
  {
   "cell_type": "code",
   "execution_count": 26,
   "metadata": {},
   "outputs": [
    {
     "data": {
      "text/plain": [
       "dict_keys(['PubmedArticle', 'PubmedBookArticle'])"
      ]
     },
     "execution_count": 26,
     "metadata": {},
     "output_type": "execute_result"
    }
   ],
   "source": [
    "result_details.keys()"
   ]
  },
  {
   "cell_type": "code",
   "execution_count": 29,
   "metadata": {},
   "outputs": [
    {
     "data": {
      "text/plain": [
       "list"
      ]
     },
     "execution_count": 29,
     "metadata": {},
     "output_type": "execute_result"
    }
   ],
   "source": [
    "type(result_details['PubmedArticle'])"
   ]
  },
  {
   "cell_type": "code",
   "execution_count": 30,
   "metadata": {},
   "outputs": [
    {
     "data": {
      "text/plain": [
       "Bio.Entrez.Parser.DictionaryElement"
      ]
     },
     "execution_count": 30,
     "metadata": {},
     "output_type": "execute_result"
    }
   ],
   "source": [
    "type(result_details['PubmedArticle'][0])"
   ]
  },
  {
   "cell_type": "code",
   "execution_count": 31,
   "metadata": {},
   "outputs": [
    {
     "data": {
      "text/plain": [
       "dict_keys(['MedlineCitation', 'PubmedData'])"
      ]
     },
     "execution_count": 31,
     "metadata": {},
     "output_type": "execute_result"
    }
   ],
   "source": [
    "result_details['PubmedArticle'][0].keys()\n"
   ]
  },
  {
   "cell_type": "code",
   "execution_count": 32,
   "metadata": {},
   "outputs": [
    {
     "data": {
      "text/plain": [
       "{'History': [DictElement({'Year': '2017', 'Month': '11', 'Day': '15', 'Hour': '6', 'Minute': '0'}, attributes={'PubStatus': 'pubmed'}), DictElement({'Year': '2018', 'Month': '4', 'Day': '27', 'Hour': '6', 'Minute': '0'}, attributes={'PubStatus': 'medline'}), DictElement({'Year': '2017', 'Month': '11', 'Day': '15', 'Hour': '6', 'Minute': '0'}, attributes={'PubStatus': 'entrez'})], 'PublicationStatus': 'ppublish', 'ArticleIdList': [StringElement('29135365', attributes={'IdType': 'pubmed'}), StringElement('10.1148/radiol.2017171115', attributes={'IdType': 'doi'})]}"
      ]
     },
     "execution_count": 32,
     "metadata": {},
     "output_type": "execute_result"
    }
   ],
   "source": [
    "result_details['PubmedArticle'][0]['PubmedData']"
   ]
  },
  {
   "cell_type": "code",
   "execution_count": 36,
   "metadata": {},
   "outputs": [
    {
     "data": {
      "text/plain": [
       "DictElement({'CitationSubset': ['AIM', 'IM'], 'OtherID': [], 'OtherAbstract': [], 'KeywordList': [], 'SpaceFlightMission': [], 'GeneralNote': [], 'PMID': StringElement('29135365', attributes={'Version': '1'}), 'DateCompleted': {'Year': '2018', 'Month': '04', 'Day': '26'}, 'DateRevised': {'Year': '2018', 'Month': '04', 'Day': '26'}, 'Article': DictElement({'ELocationID': [StringElement('10.1148/radiol.2017171115', attributes={'EIdType': 'doi', 'ValidYN': 'Y'})], 'Language': ['eng'], 'ArticleDate': [DictElement({'Year': '2017', 'Month': '11', 'Day': '13'}, attributes={'DateType': 'Electronic'})], 'Journal': {'ISSN': StringElement('1527-1315', attributes={'IssnType': 'Electronic'}), 'JournalIssue': DictElement({'Volume': '286', 'Issue': '3', 'PubDate': {'Year': '2018', 'Month': '03'}}, attributes={'CitedMedium': 'Internet'}), 'Title': 'Radiology', 'ISOAbbreviation': 'Radiology'}, 'ArticleTitle': 'Deep Learning to Classify Radiology Free-Text Reports.', 'Pagination': {'MedlinePgn': '845-852'}, 'Abstract': {'AbstractText': ['© RSNA, 2017 Online supplemental material is available for this article.'], 'sup': '©'}, 'AuthorList': ListElement([DictElement({'Identifier': [], 'AffiliationInfo': [{'Identifier': [], 'Affiliation': 'From the Department of Radiology, Stanford University School of Medicine, Stanford University Medical Center, 725 Welch Rd, Room 1675, Stanford, Calif 94305-5913 (M.C.C., N.M., D.B.L., C.P.L., M.P.L.); Stanford Center for Biomedical Informatics Research, Stanford University, Stanford, Calif (R.L.B., L.Y.); Department of Bioinformatics, University of Utah Medical Center, Salt Lake City, Utah (B.E.C.); and Department of Radiology, Duke University Medical Center, Durham, NC (T.J.A.).'}], 'LastName': 'Chen', 'ForeName': 'Matthew C', 'Initials': 'MC'}, attributes={'ValidYN': 'Y'}), DictElement({'Identifier': [], 'AffiliationInfo': [{'Identifier': [], 'Affiliation': 'From the Department of Radiology, Stanford University School of Medicine, Stanford University Medical Center, 725 Welch Rd, Room 1675, Stanford, Calif 94305-5913 (M.C.C., N.M., D.B.L., C.P.L., M.P.L.); Stanford Center for Biomedical Informatics Research, Stanford University, Stanford, Calif (R.L.B., L.Y.); Department of Bioinformatics, University of Utah Medical Center, Salt Lake City, Utah (B.E.C.); and Department of Radiology, Duke University Medical Center, Durham, NC (T.J.A.).'}], 'LastName': 'Ball', 'ForeName': 'Robyn L', 'Initials': 'RL'}, attributes={'ValidYN': 'Y'}), DictElement({'Identifier': [], 'AffiliationInfo': [{'Identifier': [], 'Affiliation': 'From the Department of Radiology, Stanford University School of Medicine, Stanford University Medical Center, 725 Welch Rd, Room 1675, Stanford, Calif 94305-5913 (M.C.C., N.M., D.B.L., C.P.L., M.P.L.); Stanford Center for Biomedical Informatics Research, Stanford University, Stanford, Calif (R.L.B., L.Y.); Department of Bioinformatics, University of Utah Medical Center, Salt Lake City, Utah (B.E.C.); and Department of Radiology, Duke University Medical Center, Durham, NC (T.J.A.).'}], 'LastName': 'Yang', 'ForeName': 'Lingyao', 'Initials': 'L'}, attributes={'ValidYN': 'Y'}), DictElement({'Identifier': [], 'AffiliationInfo': [{'Identifier': [], 'Affiliation': 'From the Department of Radiology, Stanford University School of Medicine, Stanford University Medical Center, 725 Welch Rd, Room 1675, Stanford, Calif 94305-5913 (M.C.C., N.M., D.B.L., C.P.L., M.P.L.); Stanford Center for Biomedical Informatics Research, Stanford University, Stanford, Calif (R.L.B., L.Y.); Department of Bioinformatics, University of Utah Medical Center, Salt Lake City, Utah (B.E.C.); and Department of Radiology, Duke University Medical Center, Durham, NC (T.J.A.).'}], 'LastName': 'Moradzadeh', 'ForeName': 'Nathaniel', 'Initials': 'N'}, attributes={'ValidYN': 'Y'}), DictElement({'Identifier': [], 'AffiliationInfo': [{'Identifier': [], 'Affiliation': 'From the Department of Radiology, Stanford University School of Medicine, Stanford University Medical Center, 725 Welch Rd, Room 1675, Stanford, Calif 94305-5913 (M.C.C., N.M., D.B.L., C.P.L., M.P.L.); Stanford Center for Biomedical Informatics Research, Stanford University, Stanford, Calif (R.L.B., L.Y.); Department of Bioinformatics, University of Utah Medical Center, Salt Lake City, Utah (B.E.C.); and Department of Radiology, Duke University Medical Center, Durham, NC (T.J.A.).'}], 'LastName': 'Chapman', 'ForeName': 'Brian E', 'Initials': 'BE'}, attributes={'ValidYN': 'Y'}), DictElement({'Identifier': [], 'AffiliationInfo': [{'Identifier': [], 'Affiliation': 'From the Department of Radiology, Stanford University School of Medicine, Stanford University Medical Center, 725 Welch Rd, Room 1675, Stanford, Calif 94305-5913 (M.C.C., N.M., D.B.L., C.P.L., M.P.L.); Stanford Center for Biomedical Informatics Research, Stanford University, Stanford, Calif (R.L.B., L.Y.); Department of Bioinformatics, University of Utah Medical Center, Salt Lake City, Utah (B.E.C.); and Department of Radiology, Duke University Medical Center, Durham, NC (T.J.A.).'}], 'LastName': 'Larson', 'ForeName': 'David B', 'Initials': 'DB'}, attributes={'ValidYN': 'Y'}), DictElement({'Identifier': [], 'AffiliationInfo': [{'Identifier': [], 'Affiliation': 'From the Department of Radiology, Stanford University School of Medicine, Stanford University Medical Center, 725 Welch Rd, Room 1675, Stanford, Calif 94305-5913 (M.C.C., N.M., D.B.L., C.P.L., M.P.L.); Stanford Center for Biomedical Informatics Research, Stanford University, Stanford, Calif (R.L.B., L.Y.); Department of Bioinformatics, University of Utah Medical Center, Salt Lake City, Utah (B.E.C.); and Department of Radiology, Duke University Medical Center, Durham, NC (T.J.A.).'}], 'LastName': 'Langlotz', 'ForeName': 'Curtis P', 'Initials': 'CP'}, attributes={'ValidYN': 'Y'}), DictElement({'Identifier': [], 'AffiliationInfo': [{'Identifier': [], 'Affiliation': 'From the Department of Radiology, Stanford University School of Medicine, Stanford University Medical Center, 725 Welch Rd, Room 1675, Stanford, Calif 94305-5913 (M.C.C., N.M., D.B.L., C.P.L., M.P.L.); Stanford Center for Biomedical Informatics Research, Stanford University, Stanford, Calif (R.L.B., L.Y.); Department of Bioinformatics, University of Utah Medical Center, Salt Lake City, Utah (B.E.C.); and Department of Radiology, Duke University Medical Center, Durham, NC (T.J.A.).'}], 'LastName': 'Amrhein', 'ForeName': 'Timothy J', 'Initials': 'TJ'}, attributes={'ValidYN': 'Y'}), DictElement({'Identifier': [], 'AffiliationInfo': [{'Identifier': [], 'Affiliation': 'From the Department of Radiology, Stanford University School of Medicine, Stanford University Medical Center, 725 Welch Rd, Room 1675, Stanford, Calif 94305-5913 (M.C.C., N.M., D.B.L., C.P.L., M.P.L.); Stanford Center for Biomedical Informatics Research, Stanford University, Stanford, Calif (R.L.B., L.Y.); Department of Bioinformatics, University of Utah Medical Center, Salt Lake City, Utah (B.E.C.); and Department of Radiology, Duke University Medical Center, Durham, NC (T.J.A.).'}], 'LastName': 'Lungren', 'ForeName': 'Matthew P', 'Initials': 'MP'}, attributes={'ValidYN': 'Y'})], attributes={'CompleteYN': 'Y'}), 'GrantList': ListElement([{'GrantID': 'UL1 TR001085', 'Acronym': 'TR', 'Agency': 'NCATS NIH HHS', 'Country': 'United States'}], attributes={'CompleteYN': 'Y'}), 'PublicationTypeList': [StringElement('Comparative Study', attributes={'UI': 'D003160'}), StringElement('Evaluation Studies', attributes={'UI': 'D023362'}), StringElement('Journal Article', attributes={'UI': 'D016428'}), StringElement('Multicenter Study', attributes={'UI': 'D016448'}), StringElement('Research Support, N.I.H., Extramural', attributes={'UI': 'D052061'}), StringElement(\"Research Support, Non-U.S. Gov't\", attributes={'UI': 'D013485'})]}, attributes={'PubModel': 'Print-Electronic'}), 'MedlineJournalInfo': {'Country': 'United States', 'MedlineTA': 'Radiology', 'NlmUniqueID': '0401260', 'ISSNLinking': '0033-8419'}, 'CommentsCorrectionsList': [DictElement({'RefSource': 'Radiology. 2018 Mar;286(3):853-855', 'PMID': StringElement('29461955', attributes={'Version': '1'})}, attributes={'RefType': 'CommentIn'})], 'MeshHeadingList': [{'QualifierName': [], 'DescriptorName': StringElement('Algorithms', attributes={'UI': 'D000465', 'MajorTopicYN': 'N'})}, {'QualifierName': [], 'DescriptorName': StringElement('Humans', attributes={'UI': 'D006801', 'MajorTopicYN': 'N'})}, {'QualifierName': [], 'DescriptorName': StringElement('Machine Learning', attributes={'UI': 'D000069550', 'MajorTopicYN': 'Y'})}, {'QualifierName': [], 'DescriptorName': StringElement('Natural Language Processing', attributes={'UI': 'D009323', 'MajorTopicYN': 'N'})}, {'QualifierName': [], 'DescriptorName': StringElement('Neural Networks (Computer)', attributes={'UI': 'D016571', 'MajorTopicYN': 'Y'})}, {'QualifierName': [StringElement('diagnostic imaging', attributes={'UI': 'Q000000981', 'MajorTopicYN': 'Y'})], 'DescriptorName': StringElement('Pulmonary Embolism', attributes={'UI': 'D011655', 'MajorTopicYN': 'N'})}, {'QualifierName': [], 'DescriptorName': StringElement('ROC Curve', attributes={'UI': 'D012372', 'MajorTopicYN': 'N'})}, {'QualifierName': [StringElement('methods', attributes={'UI': 'Q000379', 'MajorTopicYN': 'N'})], 'DescriptorName': StringElement('Radiography, Thoracic', attributes={'UI': 'D013902', 'MajorTopicYN': 'N'})}, {'QualifierName': [], 'DescriptorName': StringElement('Reproducibility of Results', attributes={'UI': 'D015203', 'MajorTopicYN': 'N'})}, {'QualifierName': [], 'DescriptorName': StringElement('Sensitivity and Specificity', attributes={'UI': 'D012680', 'MajorTopicYN': 'N'})}, {'QualifierName': [StringElement('methods', attributes={'UI': 'Q000379', 'MajorTopicYN': 'N'})], 'DescriptorName': StringElement('Tomography, X-Ray Computed', attributes={'UI': 'D014057', 'MajorTopicYN': 'N'})}]}, attributes={'Status': 'MEDLINE', 'Owner': 'NLM'})"
      ]
     },
     "execution_count": 36,
     "metadata": {},
     "output_type": "execute_result"
    }
   ],
   "source": [
    "result_details['PubmedArticle'][0]['MedlineCitation']"
   ]
  },
  {
   "cell_type": "code",
   "execution_count": null,
   "metadata": {},
   "outputs": [],
   "source": [
    "# def fetch_details(id_list, email=\"brian.chapman@utah.edu\"):\n",
    "id_list = search(faculty, email=\"brian.chapman@utah.edu\")\n",
    "#examine_data = fetch_details(search)"
   ]
  },
  {
   "cell_type": "markdown",
   "metadata": {},
   "source": [
    "### Author:Co-author dictionary"
   ]
  },
  {
   "cell_type": "code",
   "execution_count": null,
   "metadata": {},
   "outputs": [],
   "source": [
    "coauthors_with_ext = {\"%s\"%f : get_faculty_coauthors(f, email=email_string) for f in faculty}"
   ]
  },
  {
   "cell_type": "code",
   "execution_count": null,
   "metadata": {},
   "outputs": [],
   "source": [
    "with gzip.open(\"researchers_pubmed.pickle.gzip\", \"wb\") as f0:\n",
    "    pickle.dump(coauthors_with_ext, f0)"
   ]
  },
  {
   "cell_type": "code",
   "execution_count": null,
   "metadata": {},
   "outputs": [],
   "source": [
    "!ls -l"
   ]
  },
  {
   "cell_type": "code",
   "execution_count": null,
   "metadata": {},
   "outputs": [],
   "source": []
  }
 ],
 "metadata": {
  "kernelspec": {
   "display_name": "Python 3",
   "language": "python",
   "name": "python3"
  },
  "language_info": {
   "codemirror_mode": {
    "name": "ipython",
    "version": 3
   },
   "file_extension": ".py",
   "mimetype": "text/x-python",
   "name": "python",
   "nbconvert_exporter": "python",
   "pygments_lexer": "ipython3",
   "version": "3.6.5"
  }
 },
 "nbformat": 4,
 "nbformat_minor": 1
}
